{
 "cells": [
  {
   "cell_type": "code",
   "execution_count": 1,
   "id": "402260b3",
   "metadata": {
    "_cell_guid": "b1076dfc-b9ad-4769-8c92-a6c4dae69d19",
    "_uuid": "8f2839f25d086af736a60e9eeb907d3b93b6e0e5",
    "execution": {
     "iopub.execute_input": "2024-05-02T21:24:37.902764Z",
     "iopub.status.busy": "2024-05-02T21:24:37.901965Z",
     "iopub.status.idle": "2024-05-02T21:24:38.910628Z",
     "shell.execute_reply": "2024-05-02T21:24:38.909183Z"
    },
    "papermill": {
     "duration": 1.01629,
     "end_time": "2024-05-02T21:24:38.913538",
     "exception": false,
     "start_time": "2024-05-02T21:24:37.897248",
     "status": "completed"
    },
    "tags": []
   },
   "outputs": [
    {
     "name": "stdout",
     "output_type": "stream",
     "text": [
      "/kaggle/input/music-types/music.csv\n"
     ]
    }
   ],
   "source": [
    "# This Python 3 environment comes with many helpful analytics libraries installed\n",
    "# It is defined by the kaggle/python Docker image: https://github.com/kaggle/docker-python\n",
    "# For example, here's several helpful packages to load\n",
    "\n",
    "import numpy as np # linear algebra\n",
    "import pandas as pd # data processing, CSV file I/O (e.g. pd.read_csv)\n",
    "\n",
    "# Input data files are available in the read-only \"../input/\" directory\n",
    "# For example, running this (by clicking run or pressing Shift+Enter) will list all files under the input directory\n",
    "\n",
    "import os\n",
    "for dirname, _, filenames in os.walk('/kaggle/input'):\n",
    "    for filename in filenames:\n",
    "        print(os.path.join(dirname, filename))\n",
    "\n",
    "# You can write up to 20GB to the current directory (/kaggle/working/) that gets preserved as output when you create a version using \"Save & Run All\" \n",
    "# You can also write temporary files to /kaggle/temp/, but they won't be saved outside of the current session"
   ]
  },
  {
   "cell_type": "code",
   "execution_count": 2,
   "id": "10459409",
   "metadata": {
    "execution": {
     "iopub.execute_input": "2024-05-02T21:24:38.921061Z",
     "iopub.status.busy": "2024-05-02T21:24:38.920489Z",
     "iopub.status.idle": "2024-05-02T21:24:38.925397Z",
     "shell.execute_reply": "2024-05-02T21:24:38.924381Z"
    },
    "papermill": {
     "duration": 0.011137,
     "end_time": "2024-05-02T21:24:38.927709",
     "exception": false,
     "start_time": "2024-05-02T21:24:38.916572",
     "status": "completed"
    },
    "tags": []
   },
   "outputs": [],
   "source": [
    "import pandas as pd"
   ]
  },
  {
   "cell_type": "code",
   "execution_count": 3,
   "id": "954668a3",
   "metadata": {
    "execution": {
     "iopub.execute_input": "2024-05-02T21:24:38.934942Z",
     "iopub.status.busy": "2024-05-02T21:24:38.934528Z",
     "iopub.status.idle": "2024-05-02T21:24:38.972777Z",
     "shell.execute_reply": "2024-05-02T21:24:38.971454Z"
    },
    "papermill": {
     "duration": 0.044985,
     "end_time": "2024-05-02T21:24:38.975493",
     "exception": false,
     "start_time": "2024-05-02T21:24:38.930508",
     "status": "completed"
    },
    "tags": []
   },
   "outputs": [
    {
     "data": {
      "text/html": [
       "<div>\n",
       "<style scoped>\n",
       "    .dataframe tbody tr th:only-of-type {\n",
       "        vertical-align: middle;\n",
       "    }\n",
       "\n",
       "    .dataframe tbody tr th {\n",
       "        vertical-align: top;\n",
       "    }\n",
       "\n",
       "    .dataframe thead th {\n",
       "        text-align: right;\n",
       "    }\n",
       "</style>\n",
       "<table border=\"1\" class=\"dataframe\">\n",
       "  <thead>\n",
       "    <tr style=\"text-align: right;\">\n",
       "      <th></th>\n",
       "      <th>age</th>\n",
       "      <th>gender</th>\n",
       "      <th>genre</th>\n",
       "    </tr>\n",
       "  </thead>\n",
       "  <tbody>\n",
       "    <tr>\n",
       "      <th>0</th>\n",
       "      <td>20</td>\n",
       "      <td>1</td>\n",
       "      <td>HipHop</td>\n",
       "    </tr>\n",
       "    <tr>\n",
       "      <th>1</th>\n",
       "      <td>23</td>\n",
       "      <td>1</td>\n",
       "      <td>HipHop</td>\n",
       "    </tr>\n",
       "    <tr>\n",
       "      <th>2</th>\n",
       "      <td>25</td>\n",
       "      <td>1</td>\n",
       "      <td>HipHop</td>\n",
       "    </tr>\n",
       "    <tr>\n",
       "      <th>3</th>\n",
       "      <td>26</td>\n",
       "      <td>1</td>\n",
       "      <td>Jazz</td>\n",
       "    </tr>\n",
       "    <tr>\n",
       "      <th>4</th>\n",
       "      <td>29</td>\n",
       "      <td>1</td>\n",
       "      <td>Jazz</td>\n",
       "    </tr>\n",
       "    <tr>\n",
       "      <th>5</th>\n",
       "      <td>30</td>\n",
       "      <td>1</td>\n",
       "      <td>Jazz</td>\n",
       "    </tr>\n",
       "    <tr>\n",
       "      <th>6</th>\n",
       "      <td>31</td>\n",
       "      <td>1</td>\n",
       "      <td>Classical</td>\n",
       "    </tr>\n",
       "    <tr>\n",
       "      <th>7</th>\n",
       "      <td>33</td>\n",
       "      <td>1</td>\n",
       "      <td>Classical</td>\n",
       "    </tr>\n",
       "    <tr>\n",
       "      <th>8</th>\n",
       "      <td>37</td>\n",
       "      <td>1</td>\n",
       "      <td>Classical</td>\n",
       "    </tr>\n",
       "    <tr>\n",
       "      <th>9</th>\n",
       "      <td>20</td>\n",
       "      <td>0</td>\n",
       "      <td>Dance</td>\n",
       "    </tr>\n",
       "    <tr>\n",
       "      <th>10</th>\n",
       "      <td>21</td>\n",
       "      <td>0</td>\n",
       "      <td>Dance</td>\n",
       "    </tr>\n",
       "    <tr>\n",
       "      <th>11</th>\n",
       "      <td>25</td>\n",
       "      <td>0</td>\n",
       "      <td>Dance</td>\n",
       "    </tr>\n",
       "    <tr>\n",
       "      <th>12</th>\n",
       "      <td>26</td>\n",
       "      <td>0</td>\n",
       "      <td>Acoustic</td>\n",
       "    </tr>\n",
       "    <tr>\n",
       "      <th>13</th>\n",
       "      <td>27</td>\n",
       "      <td>0</td>\n",
       "      <td>Acoustic</td>\n",
       "    </tr>\n",
       "    <tr>\n",
       "      <th>14</th>\n",
       "      <td>30</td>\n",
       "      <td>0</td>\n",
       "      <td>Acoustic</td>\n",
       "    </tr>\n",
       "    <tr>\n",
       "      <th>15</th>\n",
       "      <td>31</td>\n",
       "      <td>0</td>\n",
       "      <td>Classical</td>\n",
       "    </tr>\n",
       "    <tr>\n",
       "      <th>16</th>\n",
       "      <td>34</td>\n",
       "      <td>0</td>\n",
       "      <td>Classical</td>\n",
       "    </tr>\n",
       "    <tr>\n",
       "      <th>17</th>\n",
       "      <td>35</td>\n",
       "      <td>0</td>\n",
       "      <td>Classical</td>\n",
       "    </tr>\n",
       "  </tbody>\n",
       "</table>\n",
       "</div>"
      ],
      "text/plain": [
       "    age  gender      genre\n",
       "0    20       1     HipHop\n",
       "1    23       1     HipHop\n",
       "2    25       1     HipHop\n",
       "3    26       1       Jazz\n",
       "4    29       1       Jazz\n",
       "5    30       1       Jazz\n",
       "6    31       1  Classical\n",
       "7    33       1  Classical\n",
       "8    37       1  Classical\n",
       "9    20       0      Dance\n",
       "10   21       0      Dance\n",
       "11   25       0      Dance\n",
       "12   26       0   Acoustic\n",
       "13   27       0   Acoustic\n",
       "14   30       0   Acoustic\n",
       "15   31       0  Classical\n",
       "16   34       0  Classical\n",
       "17   35       0  Classical"
      ]
     },
     "execution_count": 3,
     "metadata": {},
     "output_type": "execute_result"
    }
   ],
   "source": [
    "data = pd.read_csv('/kaggle/input/music-types/music.csv')\n",
    "data"
   ]
  },
  {
   "cell_type": "code",
   "execution_count": 4,
   "id": "11afff5a",
   "metadata": {
    "execution": {
     "iopub.execute_input": "2024-05-02T21:24:38.983363Z",
     "iopub.status.busy": "2024-05-02T21:24:38.982962Z",
     "iopub.status.idle": "2024-05-02T21:24:38.997755Z",
     "shell.execute_reply": "2024-05-02T21:24:38.995784Z"
    },
    "papermill": {
     "duration": 0.021763,
     "end_time": "2024-05-02T21:24:39.000386",
     "exception": false,
     "start_time": "2024-05-02T21:24:38.978623",
     "status": "completed"
    },
    "tags": []
   },
   "outputs": [
    {
     "data": {
      "text/plain": [
       "0        HipHop\n",
       "1        HipHop\n",
       "2        HipHop\n",
       "3          Jazz\n",
       "4          Jazz\n",
       "5          Jazz\n",
       "6     Classical\n",
       "7     Classical\n",
       "8     Classical\n",
       "9         Dance\n",
       "10        Dance\n",
       "11        Dance\n",
       "12     Acoustic\n",
       "13     Acoustic\n",
       "14     Acoustic\n",
       "15    Classical\n",
       "16    Classical\n",
       "17    Classical\n",
       "Name: genre, dtype: object"
      ]
     },
     "execution_count": 4,
     "metadata": {},
     "output_type": "execute_result"
    }
   ],
   "source": [
    "x = data.drop(columns = ['genre'])\n",
    "x\n",
    "y = data['genre']\n",
    "y"
   ]
  },
  {
   "cell_type": "code",
   "execution_count": 5,
   "id": "83530262",
   "metadata": {
    "execution": {
     "iopub.execute_input": "2024-05-02T21:24:39.009217Z",
     "iopub.status.busy": "2024-05-02T21:24:39.008753Z",
     "iopub.status.idle": "2024-05-02T21:24:40.727994Z",
     "shell.execute_reply": "2024-05-02T21:24:40.727049Z"
    },
    "papermill": {
     "duration": 1.726276,
     "end_time": "2024-05-02T21:24:40.730171",
     "exception": false,
     "start_time": "2024-05-02T21:24:39.003895",
     "status": "completed"
    },
    "tags": []
   },
   "outputs": [
    {
     "data": {
      "text/plain": [
       "1.0"
      ]
     },
     "execution_count": 5,
     "metadata": {},
     "output_type": "execute_result"
    }
   ],
   "source": [
    "from sklearn.tree import DecisionTreeClassifier\n",
    "from sklearn.model_selection import train_test_split\n",
    "from sklearn.metrics import accuracy_score\n",
    "x_train, x_test, y_train, y_test = train_test_split(x, y, test_size = 0.2)\n",
    "\n",
    "model = DecisionTreeClassifier()\n",
    "model.fit(x,y)\n",
    "\n",
    "\n",
    "#prediction = model.predict([[21,1], [22,0]])\n",
    "prediction = model.predict(x_test)\n",
    "\n",
    "score = accuracy_score(y_test, prediction)\n",
    "score"
   ]
  },
  {
   "cell_type": "code",
   "execution_count": 6,
   "id": "2973fe98",
   "metadata": {
    "execution": {
     "iopub.execute_input": "2024-05-02T21:24:40.738626Z",
     "iopub.status.busy": "2024-05-02T21:24:40.738003Z",
     "iopub.status.idle": "2024-05-02T21:24:40.751792Z",
     "shell.execute_reply": "2024-05-02T21:24:40.750834Z"
    },
    "papermill": {
     "duration": 0.02095,
     "end_time": "2024-05-02T21:24:40.754297",
     "exception": false,
     "start_time": "2024-05-02T21:24:40.733347",
     "status": "completed"
    },
    "tags": []
   },
   "outputs": [],
   "source": [
    "from sklearn.tree import DecisionTreeClassifier\n",
    "from sklearn import tree\n",
    "\n",
    "model = DecisionTreeClassifier()\n",
    "model.fit(x,y)\n",
    "\n",
    "\n",
    "prediction = model.predict(x_test)\n",
    "\n",
    "tree.export_graphviz(model, out_file='music-recommender.dot',\n",
    "                                      feature_names= ['age', 'gender'], \n",
    "                                      class_names= sorted(y.unique()), \n",
    "                                      label ='all',\n",
    "                                      rounded = True, \n",
    "                                      filled = True)"
   ]
  }
 ],
 "metadata": {
  "kaggle": {
   "accelerator": "none",
   "dataSources": [
    {
     "datasetId": 3517457,
     "sourceId": 6134503,
     "sourceType": "datasetVersion"
    }
   ],
   "dockerImageVersionId": 30698,
   "isGpuEnabled": false,
   "isInternetEnabled": true,
   "language": "python",
   "sourceType": "notebook"
  },
  "kernelspec": {
   "display_name": "Python 3",
   "language": "python",
   "name": "python3"
  },
  "language_info": {
   "codemirror_mode": {
    "name": "ipython",
    "version": 3
   },
   "file_extension": ".py",
   "mimetype": "text/x-python",
   "name": "python",
   "nbconvert_exporter": "python",
   "pygments_lexer": "ipython3",
   "version": "3.10.13"
  },
  "papermill": {
   "default_parameters": {},
   "duration": 6.545968,
   "end_time": "2024-05-02T21:24:41.378457",
   "environment_variables": {},
   "exception": null,
   "input_path": "__notebook__.ipynb",
   "output_path": "__notebook__.ipynb",
   "parameters": {},
   "start_time": "2024-05-02T21:24:34.832489",
   "version": "2.5.0"
  }
 },
 "nbformat": 4,
 "nbformat_minor": 5
}
